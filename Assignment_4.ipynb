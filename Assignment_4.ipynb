{
 "cells": [
  {
   "cell_type": "code",
   "execution_count": 57,
   "metadata": {},
   "outputs": [
    {
     "name": "stdout",
     "output_type": "stream",
     "text": [
      "please enter the list of words separated by commasanthosh,kumar,rekiya,Germany,Engineer,adsfasfadsfa,asdfadads,2394,kkdf\n",
      "please enter the integer5\n",
      "The words which are longer than n are\n"
     ]
    },
    {
     "data": {
      "text/plain": [
       "['santhosh', 'rekiya', 'Germany', 'Engineer', 'adsfasfadsfa', 'asdfadads']"
      ]
     },
     "execution_count": 57,
     "metadata": {},
     "output_type": "execute_result"
    }
   ],
   "source": [
    "'''1.2 Write a function filter_long_words() that takes a list of words and an integer n and returns\n",
    "the list of words that are longer than n.'''\n",
    "\n",
    "def  filter_long_words(wordlist,n):\n",
    "    m=[]\n",
    "    wordlist_sep = wordlist.split(\",\")\n",
    "    for i in range(len(wordlist_sep)):\n",
    "        if(len(wordlist_sep[i])>n):\n",
    "            m.append(wordlist_sep[i])\n",
    "        else:\n",
    "            pass \n",
    "    print(\"The words which are longer than n are\")\n",
    "    return(m)\n",
    "\n",
    "filter_long_words(input(\"please enter the list of words separated by comma\"),int(input(\"please enter the integer\")))    "
   ]
  },
  {
   "cell_type": "code",
   "execution_count": 66,
   "metadata": {},
   "outputs": [
    {
     "data": {
      "text/plain": [
       "[2, 3, 4]"
      ]
     },
     "execution_count": 66,
     "metadata": {},
     "output_type": "execute_result"
    }
   ],
   "source": [
    "'''2.1 Write a Python program using function concept that maps list of words into a list of integers\n",
    "representing the lengths of the corresponding words.\n",
    "Hint: If a list [ ab,cde,erty] is passed on to the python function output should come as [2,3,4]\n",
    "Here 2,3 and 4 are the lengths of the words in the list.'''\n",
    "\n",
    "l = [\"ab\",\"cde\",\"erty\"]\n",
    "list(map(lambda a : len(a),l))\n",
    "\n"
   ]
  },
  {
   "cell_type": "code",
   "execution_count": 65,
   "metadata": {},
   "outputs": [
    {
     "data": {
      "text/plain": [
       "[2, 3, 4]"
      ]
     },
     "execution_count": 65,
     "metadata": {},
     "output_type": "execute_result"
    }
   ],
   "source": [
    "##Or another format\n",
    "def wrdlst_integer(a):\n",
    "    m=[]\n",
    "    for i in range (len(a)):\n",
    "        m.append(len(a[i]))     \n",
    "    return(m)\n",
    "wrdlst_integer([\"ab\",\"cde\",\"erty\"])"
   ]
  },
  {
   "cell_type": "code",
   "execution_count": 92,
   "metadata": {},
   "outputs": [
    {
     "name": "stdout",
     "output_type": "stream",
     "text": [
      "please enter single charcter to check if it is vowel or notd\n"
     ]
    },
    {
     "data": {
      "text/plain": [
       "False"
      ]
     },
     "execution_count": 92,
     "metadata": {},
     "output_type": "execute_result"
    }
   ],
   "source": [
    "'''2.2 Write a Python function which takes a character (i.e. a string of length 1) and returns True if\n",
    "it is a vowel, False otherwise.'''\n",
    "\n",
    "def vowel(k):\n",
    "    l = ['a','e','i','o','u']\n",
    "    if k in l:\n",
    "      return True\n",
    "    else:\n",
    "      return False\n",
    "\n",
    "vowel(input(\"please enter single charcter to check if it is vowel or not\"))\n"
   ]
  },
  {
   "cell_type": "code",
   "execution_count": 1,
   "metadata": {},
   "outputs": [],
   "source": [
    "#'''1.1 Write a Python Program(with class concepts) to find the area of the triangle using the below\n",
    "#formula.\n",
    "#area = (s*(s-a)*(s-b)*(s-c)) ** 0.5\n",
    "#Function to take the length of the sides of triangle from user should be defined in the parent\n",
    "#class and function to calculate the area should be defined in subclass.'''\n",
    "\n",
    "class triangle:\n",
    "    def __init__(self,a,b,c):\n",
    "        self.a = a\n",
    "        self.b = b\n",
    "        self.c = c\n",
    "    def area(self):\n",
    "        s = (self.a+self.b+self.c)/2\n",
    "        return (s*(s-self.a)*(s-self.b)*(s-self.c)) ** 0.5"
   ]
  },
  {
   "cell_type": "code",
   "execution_count": 2,
   "metadata": {},
   "outputs": [
    {
     "data": {
      "text/plain": [
       "3.872983346207417"
      ]
     },
     "execution_count": 2,
     "metadata": {},
     "output_type": "execute_result"
    }
   ],
   "source": [
    "t = triangle(2,4,4)\n",
    "t.area()"
   ]
  },
  {
   "cell_type": "code",
   "execution_count": null,
   "metadata": {},
   "outputs": [],
   "source": []
  }
 ],
 "metadata": {
  "kernelspec": {
   "display_name": "Python 3",
   "language": "python",
   "name": "python3"
  },
  "language_info": {
   "codemirror_mode": {
    "name": "ipython",
    "version": 3
   },
   "file_extension": ".py",
   "mimetype": "text/x-python",
   "name": "python",
   "nbconvert_exporter": "python",
   "pygments_lexer": "ipython3",
   "version": "3.7.0"
  }
 },
 "nbformat": 4,
 "nbformat_minor": 2
}
